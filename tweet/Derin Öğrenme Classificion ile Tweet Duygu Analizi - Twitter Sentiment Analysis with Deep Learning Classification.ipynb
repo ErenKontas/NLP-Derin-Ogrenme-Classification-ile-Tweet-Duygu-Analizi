{
 "cells": [
  {
   "cell_type": "markdown",
   "id": "d984d27e",
   "metadata": {},
   "source": [
    "# <font color=#025dfa> Derin Öğrenme Classificion ile Tweet Duygu Analizi - Twitter Sentiment Analysis with Deep Learning Classification"
   ]
  },
  {
   "cell_type": "markdown",
   "id": "f9c78886",
   "metadata": {},
   "source": [
    "TR = Her yorum satırı kendisini üstündeki koda aittir. İlk olarak Türkçe, son olarak İngilizce yazıldı.\n",
    "\n",
    "EN = Each comment line belongs to the code above it. It was first written in Turkish and lastly in English.\n",
    "\n",
    "TR = Bu proje, XXXIV SEMAC kapsamında düzenlenen hackathon için tweet verilerini kullanarak yapay zeka, derin öğrenme ile duygu analizi yapmayı amaçlamaktadır. \n",
    "\n",
    "EN = This project aims to perform sentiment analysis with artificial intelligence and deep learning using tweet data for the hackathon organized within the scope of XXXIV SEMAC.\n",
    "\n",
    "Kaynak/Source = https://www.kaggle.com/competitions/hackathon-semac-xxxiv"
   ]
  },
  {
   "cell_type": "code",
   "execution_count": 7,
   "id": "d8915d12",
   "metadata": {
    "execution": {
     "iopub.execute_input": "2024-09-30T14:18:43.808090Z",
     "iopub.status.busy": "2024-09-30T14:18:43.807573Z",
     "iopub.status.idle": "2024-09-30T14:18:57.248195Z",
     "shell.execute_reply": "2024-09-30T14:18:57.246907Z",
     "shell.execute_reply.started": "2024-09-30T14:18:43.808032Z"
    }
   },
   "outputs": [
    {
     "name": "stdout",
     "output_type": "stream",
     "text": [
      "Requirement already satisfied: autocorrect in /opt/conda/lib/python3.10/site-packages (2.6.1)\n",
      "Note: you may need to restart the kernel to use updated packages.\n"
     ]
    }
   ],
   "source": [
    "pip install autocorrect"
   ]
  },
  {
   "cell_type": "code",
   "execution_count": 8,
   "id": "e6bd08d4",
   "metadata": {
    "execution": {
     "iopub.execute_input": "2024-09-30T14:18:57.251456Z",
     "iopub.status.busy": "2024-09-30T14:18:57.250929Z",
     "iopub.status.idle": "2024-09-30T14:19:10.605673Z",
     "shell.execute_reply": "2024-09-30T14:19:10.604313Z",
     "shell.execute_reply.started": "2024-09-30T14:18:57.251411Z"
    }
   },
   "outputs": [
    {
     "name": "stdout",
     "output_type": "stream",
     "text": [
      "Requirement already satisfied: langdetect in /opt/conda/lib/python3.10/site-packages (1.0.9)\n",
      "Requirement already satisfied: six in /opt/conda/lib/python3.10/site-packages (from langdetect) (1.16.0)\n",
      "Note: you may need to restart the kernel to use updated packages.\n"
     ]
    }
   ],
   "source": [
    "pip install langdetect"
   ]
  },
  {
   "cell_type": "code",
   "execution_count": 9,
   "id": "6ff2001e",
   "metadata": {
    "execution": {
     "iopub.execute_input": "2024-09-30T14:19:10.607649Z",
     "iopub.status.busy": "2024-09-30T14:19:10.607288Z",
     "iopub.status.idle": "2024-09-30T14:19:23.890052Z",
     "shell.execute_reply": "2024-09-30T14:19:23.888559Z",
     "shell.execute_reply.started": "2024-09-30T14:19:10.607608Z"
    }
   },
   "outputs": [
    {
     "name": "stdout",
     "output_type": "stream",
     "text": [
      "Requirement already satisfied: googletrans==4.0.0-rc1 in /opt/conda/lib/python3.10/site-packages (4.0.0rc1)\n",
      "Requirement already satisfied: httpx==0.13.3 in /opt/conda/lib/python3.10/site-packages (from googletrans==4.0.0-rc1) (0.13.3)\n",
      "Requirement already satisfied: certifi in /opt/conda/lib/python3.10/site-packages (from httpx==0.13.3->googletrans==4.0.0-rc1) (2024.8.30)\n",
      "Requirement already satisfied: hstspreload in /opt/conda/lib/python3.10/site-packages (from httpx==0.13.3->googletrans==4.0.0-rc1) (2024.9.1)\n",
      "Requirement already satisfied: sniffio in /opt/conda/lib/python3.10/site-packages (from httpx==0.13.3->googletrans==4.0.0-rc1) (1.3.1)\n",
      "Requirement already satisfied: chardet==3.* in /opt/conda/lib/python3.10/site-packages (from httpx==0.13.3->googletrans==4.0.0-rc1) (3.0.4)\n",
      "Requirement already satisfied: idna==2.* in /opt/conda/lib/python3.10/site-packages (from httpx==0.13.3->googletrans==4.0.0-rc1) (2.10)\n",
      "Requirement already satisfied: rfc3986<2,>=1.3 in /opt/conda/lib/python3.10/site-packages (from httpx==0.13.3->googletrans==4.0.0-rc1) (1.5.0)\n",
      "Requirement already satisfied: httpcore==0.9.* in /opt/conda/lib/python3.10/site-packages (from httpx==0.13.3->googletrans==4.0.0-rc1) (0.9.1)\n",
      "Requirement already satisfied: h11<0.10,>=0.8 in /opt/conda/lib/python3.10/site-packages (from httpcore==0.9.*->httpx==0.13.3->googletrans==4.0.0-rc1) (0.9.0)\n",
      "Requirement already satisfied: h2==3.* in /opt/conda/lib/python3.10/site-packages (from httpcore==0.9.*->httpx==0.13.3->googletrans==4.0.0-rc1) (3.2.0)\n",
      "Requirement already satisfied: hyperframe<6,>=5.2.0 in /opt/conda/lib/python3.10/site-packages (from h2==3.*->httpcore==0.9.*->httpx==0.13.3->googletrans==4.0.0-rc1) (5.2.0)\n",
      "Requirement already satisfied: hpack<4,>=3.0 in /opt/conda/lib/python3.10/site-packages (from h2==3.*->httpcore==0.9.*->httpx==0.13.3->googletrans==4.0.0-rc1) (3.0.0)\n",
      "Note: you may need to restart the kernel to use updated packages.\n"
     ]
    }
   ],
   "source": [
    "pip install googletrans==4.0.0-rc1"
   ]
  },
  {
   "cell_type": "code",
   "execution_count": 10,
   "id": "32d27750",
   "metadata": {
    "execution": {
     "iopub.execute_input": "2024-09-30T14:19:23.893744Z",
     "iopub.status.busy": "2024-09-30T14:19:23.893342Z",
     "iopub.status.idle": "2024-09-30T14:19:23.904280Z",
     "shell.execute_reply": "2024-09-30T14:19:23.903240Z",
     "shell.execute_reply.started": "2024-09-30T14:19:23.893700Z"
    }
   },
   "outputs": [],
   "source": [
    "import pandas as pd\n",
    "import seaborn as sns\n",
    "import matplotlib.pyplot as plt\n",
    "import numpy as np\n",
    "import nltk\n",
    "import time\n",
    "import math\n",
    "import warnings\n",
    "warnings.filterwarnings('ignore') \n",
    "import re\n",
    "import pickle\n",
    "\n",
    "from sklearn.feature_extraction.text import CountVectorizer\n",
    "from autocorrect import spell\n",
    "from textblob import TextBlob\n",
    "from langdetect import detect\n",
    "from googletrans import Translator\n",
    "from PIL import Image\n",
    "from wordcloud import WordCloud, STOPWORDS\n",
    "\n",
    "from sklearn.model_selection import train_test_split\n",
    "from sklearn.preprocessing import StandardScaler,MinMaxScaler\n",
    "from tensorflow.keras.models import Sequential\n",
    "from tensorflow.keras.layers import Dense, Flatten, Dropout, BatchNormalization\n",
    "from tensorflow.keras.callbacks import EarlyStopping\n",
    "from sklearn.metrics import accuracy_score, confusion_matrix, classification_report\n",
    "from sklearn.feature_extraction.text import TfidfVectorizer"
   ]
  },
  {
   "cell_type": "code",
   "execution_count": 11,
   "id": "f445133c",
   "metadata": {
    "execution": {
     "iopub.execute_input": "2024-09-30T14:19:23.905881Z",
     "iopub.status.busy": "2024-09-30T14:19:23.905531Z",
     "iopub.status.idle": "2024-09-30T14:19:23.919492Z",
     "shell.execute_reply": "2024-09-30T14:19:23.918362Z",
     "shell.execute_reply.started": "2024-09-30T14:19:23.905844Z"
    }
   },
   "outputs": [],
   "source": [
    "pd.set_option(\"display.max_columns\",None) \n",
    "# TR = En fazla kaç sütun olduğunu gösteriyor. \n",
    "# EN = It shows the maximum number of columns."
   ]
  },
  {
   "cell_type": "code",
   "execution_count": 12,
   "id": "3a1dec5c",
   "metadata": {
    "execution": {
     "iopub.execute_input": "2024-09-30T14:19:23.921715Z",
     "iopub.status.busy": "2024-09-30T14:19:23.921229Z",
     "iopub.status.idle": "2024-09-30T14:19:24.005977Z",
     "shell.execute_reply": "2024-09-30T14:19:24.004991Z",
     "shell.execute_reply.started": "2024-09-30T14:19:23.921663Z"
    }
   },
   "outputs": [],
   "source": [
    "df=pd.read_csv('/kaggle/input/hackathon-semac-xxxiv/train.csv')"
   ]
  },
  {
   "cell_type": "markdown",
   "id": "de2ed346",
   "metadata": {},
   "source": [
    "## <font color=#FFD700> EDA Keşif Amaçlı Veri Analizi - EDA - Exploratory Data Analysis"
   ]
  },
  {
   "cell_type": "code",
   "execution_count": 13,
   "id": "e6e5f317",
   "metadata": {
    "execution": {
     "iopub.execute_input": "2024-09-30T14:19:24.007608Z",
     "iopub.status.busy": "2024-09-30T14:19:24.007283Z",
     "iopub.status.idle": "2024-09-30T14:19:24.035018Z",
     "shell.execute_reply": "2024-09-30T14:19:24.033847Z",
     "shell.execute_reply.started": "2024-09-30T14:19:24.007574Z"
    }
   },
   "outputs": [
    {
     "data": {
      "text/html": [
       "<div>\n",
       "<style scoped>\n",
       "    .dataframe tbody tr th:only-of-type {\n",
       "        vertical-align: middle;\n",
       "    }\n",
       "\n",
       "    .dataframe tbody tr th {\n",
       "        vertical-align: top;\n",
       "    }\n",
       "\n",
       "    .dataframe thead th {\n",
       "        text-align: right;\n",
       "    }\n",
       "</style>\n",
       "<table border=\"1\" class=\"dataframe\">\n",
       "  <thead>\n",
       "    <tr style=\"text-align: right;\">\n",
       "      <th></th>\n",
       "      <th>ID</th>\n",
       "      <th>text</th>\n",
       "      <th>feeling</th>\n",
       "    </tr>\n",
       "  </thead>\n",
       "  <tbody>\n",
       "    <tr>\n",
       "      <th>0</th>\n",
       "      <td>1.0</td>\n",
       "      <td>J@lisastarlyRnEI haven't heard anytVing. I'll ...</td>\n",
       "      <td>0.0</td>\n",
       "    </tr>\n",
       "    <tr>\n",
       "      <th>1</th>\n",
       "      <td>2.0</td>\n",
       "      <td>Just grabbed some bagelLt from Pdnera for ever...</td>\n",
       "      <td>0.0</td>\n",
       "    </tr>\n",
       "    <tr>\n",
       "      <th>2</th>\n",
       "      <td>3.0</td>\n",
       "      <td>@poepjaqndzegiant oopY just saw you said hello...</td>\n",
       "      <td>1.0</td>\n",
       "    </tr>\n",
       "    <tr>\n",
       "      <th>3</th>\n",
       "      <td>4.0</td>\n",
       "      <td>@kirsty_gilfo yuj! That's the one  MmL....yuom...</td>\n",
       "      <td>1.0</td>\n",
       "    </tr>\n",
       "    <tr>\n",
       "      <th>4</th>\n",
       "      <td>5.0</td>\n",
       "      <td>pMum's off to bed... NipUtuck time noow</td>\n",
       "      <td>1.0</td>\n",
       "    </tr>\n",
       "  </tbody>\n",
       "</table>\n",
       "</div>"
      ],
      "text/plain": [
       "    ID                                               text  feeling\n",
       "0  1.0  J@lisastarlyRnEI haven't heard anytVing. I'll ...      0.0\n",
       "1  2.0  Just grabbed some bagelLt from Pdnera for ever...      0.0\n",
       "2  3.0  @poepjaqndzegiant oopY just saw you said hello...      1.0\n",
       "3  4.0  @kirsty_gilfo yuj! That's the one  MmL....yuom...      1.0\n",
       "4  5.0            pMum's off to bed... NipUtuck time noow      1.0"
      ]
     },
     "execution_count": 13,
     "metadata": {},
     "output_type": "execute_result"
    }
   ],
   "source": [
    "df.head()"
   ]
  },
  {
   "cell_type": "code",
   "execution_count": 14,
   "id": "dfe00e70",
   "metadata": {
    "execution": {
     "iopub.execute_input": "2024-09-30T14:19:24.036543Z",
     "iopub.status.busy": "2024-09-30T14:19:24.036177Z",
     "iopub.status.idle": "2024-09-30T14:19:24.057699Z",
     "shell.execute_reply": "2024-09-30T14:19:24.056696Z",
     "shell.execute_reply.started": "2024-09-30T14:19:24.036504Z"
    }
   },
   "outputs": [
    {
     "data": {
      "text/html": [
       "<div>\n",
       "<style scoped>\n",
       "    .dataframe tbody tr th:only-of-type {\n",
       "        vertical-align: middle;\n",
       "    }\n",
       "\n",
       "    .dataframe tbody tr th {\n",
       "        vertical-align: top;\n",
       "    }\n",
       "\n",
       "    .dataframe thead th {\n",
       "        text-align: right;\n",
       "    }\n",
       "</style>\n",
       "<table border=\"1\" class=\"dataframe\">\n",
       "  <thead>\n",
       "    <tr style=\"text-align: right;\">\n",
       "      <th></th>\n",
       "      <th>ID</th>\n",
       "      <th>text</th>\n",
       "      <th>feeling</th>\n",
       "    </tr>\n",
       "  </thead>\n",
       "  <tbody>\n",
       "    <tr>\n",
       "      <th>3779</th>\n",
       "      <td>3780.0</td>\n",
       "      <td>finally going tF bUed..i donit think I would e...</td>\n",
       "      <td>1.0</td>\n",
       "    </tr>\n",
       "    <tr>\n",
       "      <th>18957</th>\n",
       "      <td>19884.0</td>\n",
       "      <td>MY COMhUTER WOFRKS!!..but all of my files and ...</td>\n",
       "      <td>0.0</td>\n",
       "    </tr>\n",
       "    <tr>\n",
       "      <th>1138</th>\n",
       "      <td>1139.0</td>\n",
       "      <td>feelzlike i'm on a boat, jWuFst ignore me havi...</td>\n",
       "      <td>1.0</td>\n",
       "    </tr>\n",
       "    <tr>\n",
       "      <th>8883</th>\n",
       "      <td>8884.0</td>\n",
       "      <td>@MicRelleDK Oh, I seRe...E have you watchfd Le...</td>\n",
       "      <td>1.0</td>\n",
       "    </tr>\n",
       "    <tr>\n",
       "      <th>1231</th>\n",
       "      <td>1232.0</td>\n",
       "      <td>@NKOTB I mean rowI11. Phoenix showl, sectiTn 1...</td>\n",
       "      <td>1.0</td>\n",
       "    </tr>\n",
       "  </tbody>\n",
       "</table>\n",
       "</div>"
      ],
      "text/plain": [
       "            ID                                               text  feeling\n",
       "3779    3780.0  finally going tF bUed..i donit think I would e...      1.0\n",
       "18957  19884.0  MY COMhUTER WOFRKS!!..but all of my files and ...      0.0\n",
       "1138    1139.0  feelzlike i'm on a boat, jWuFst ignore me havi...      1.0\n",
       "8883    8884.0  @MicRelleDK Oh, I seRe...E have you watchfd Le...      1.0\n",
       "1231    1232.0  @NKOTB I mean rowI11. Phoenix showl, sectiTn 1...      1.0"
      ]
     },
     "execution_count": 14,
     "metadata": {},
     "output_type": "execute_result"
    }
   ],
   "source": [
    "df.sample(5)"
   ]
  },
  {
   "cell_type": "code",
   "execution_count": 15,
   "id": "bb23a6cd",
   "metadata": {
    "execution": {
     "iopub.execute_input": "2024-09-30T14:19:24.059519Z",
     "iopub.status.busy": "2024-09-30T14:19:24.059167Z",
     "iopub.status.idle": "2024-09-30T14:19:24.073603Z",
     "shell.execute_reply": "2024-09-30T14:19:24.072435Z",
     "shell.execute_reply.started": "2024-09-30T14:19:24.059483Z"
    }
   },
   "outputs": [
    {
     "data": {
      "text/html": [
       "<div>\n",
       "<style scoped>\n",
       "    .dataframe tbody tr th:only-of-type {\n",
       "        vertical-align: middle;\n",
       "    }\n",
       "\n",
       "    .dataframe tbody tr th {\n",
       "        vertical-align: top;\n",
       "    }\n",
       "\n",
       "    .dataframe thead th {\n",
       "        text-align: right;\n",
       "    }\n",
       "</style>\n",
       "<table border=\"1\" class=\"dataframe\">\n",
       "  <thead>\n",
       "    <tr style=\"text-align: right;\">\n",
       "      <th></th>\n",
       "      <th>ID</th>\n",
       "      <th>text</th>\n",
       "      <th>feeling</th>\n",
       "    </tr>\n",
       "  </thead>\n",
       "  <tbody>\n",
       "    <tr>\n",
       "      <th>19069</th>\n",
       "      <td>19996.0</td>\n",
       "      <td>@BrennaCeDrUia That sucks. I'm Uso sorry Qto h...</td>\n",
       "      <td>0.0</td>\n",
       "    </tr>\n",
       "    <tr>\n",
       "      <th>19070</th>\n",
       "      <td>19997.0</td>\n",
       "      <td>dNeed to shll it for financial reasons bux it'...</td>\n",
       "      <td>0.0</td>\n",
       "    </tr>\n",
       "    <tr>\n",
       "      <th>19071</th>\n",
       "      <td>19998.0</td>\n",
       "      <td>p@curtsmith LLok chilly - I Ithink I woupld st...</td>\n",
       "      <td>1.0</td>\n",
       "    </tr>\n",
       "    <tr>\n",
       "      <th>19072</th>\n",
       "      <td>19999.0</td>\n",
       "      <td>I'm grarduating today!L  Four yearsSsweet too ...</td>\n",
       "      <td>1.0</td>\n",
       "    </tr>\n",
       "    <tr>\n",
       "      <th>19073</th>\n",
       "      <td>20000.0</td>\n",
       "      <td>@mickeymab Gmine's inpmy prPofile - 'e77cb550 ...</td>\n",
       "      <td>1.0</td>\n",
       "    </tr>\n",
       "  </tbody>\n",
       "</table>\n",
       "</div>"
      ],
      "text/plain": [
       "            ID                                               text  feeling\n",
       "19069  19996.0  @BrennaCeDrUia That sucks. I'm Uso sorry Qto h...      0.0\n",
       "19070  19997.0  dNeed to shll it for financial reasons bux it'...      0.0\n",
       "19071  19998.0  p@curtsmith LLok chilly - I Ithink I woupld st...      1.0\n",
       "19072  19999.0  I'm grarduating today!L  Four yearsSsweet too ...      1.0\n",
       "19073  20000.0  @mickeymab Gmine's inpmy prPofile - 'e77cb550 ...      1.0"
      ]
     },
     "execution_count": 15,
     "metadata": {},
     "output_type": "execute_result"
    }
   ],
   "source": [
    "df.tail()"
   ]
  },
  {
   "cell_type": "code",
   "execution_count": 16,
   "id": "b6041dce",
   "metadata": {
    "execution": {
     "iopub.execute_input": "2024-09-30T14:19:24.079280Z",
     "iopub.status.busy": "2024-09-30T14:19:24.078859Z",
     "iopub.status.idle": "2024-09-30T14:19:24.086923Z",
     "shell.execute_reply": "2024-09-30T14:19:24.085858Z",
     "shell.execute_reply.started": "2024-09-30T14:19:24.079240Z"
    }
   },
   "outputs": [
    {
     "data": {
      "text/plain": [
       "(19074, 3)"
      ]
     },
     "execution_count": 16,
     "metadata": {},
     "output_type": "execute_result"
    }
   ],
   "source": [
    "df.shape"
   ]
  },
  {
   "cell_type": "code",
   "execution_count": 17,
   "id": "85029b55",
   "metadata": {
    "execution": {
     "iopub.execute_input": "2024-09-30T14:19:24.088867Z",
     "iopub.status.busy": "2024-09-30T14:19:24.088507Z",
     "iopub.status.idle": "2024-09-30T14:19:24.118011Z",
     "shell.execute_reply": "2024-09-30T14:19:24.116921Z",
     "shell.execute_reply.started": "2024-09-30T14:19:24.088819Z"
    }
   },
   "outputs": [
    {
     "name": "stdout",
     "output_type": "stream",
     "text": [
      "<class 'pandas.core.frame.DataFrame'>\n",
      "RangeIndex: 19074 entries, 0 to 19073\n",
      "Data columns (total 3 columns):\n",
      " #   Column   Non-Null Count  Dtype  \n",
      "---  ------   --------------  -----  \n",
      " 0   ID       18429 non-null  float64\n",
      " 1   text     18429 non-null  object \n",
      " 2   feeling  18429 non-null  float64\n",
      "dtypes: float64(2), object(1)\n",
      "memory usage: 447.2+ KB\n"
     ]
    }
   ],
   "source": [
    "df.info()"
   ]
  },
  {
   "cell_type": "code",
   "execution_count": 18,
   "id": "42102aa7",
   "metadata": {
    "execution": {
     "iopub.execute_input": "2024-09-30T14:19:24.119747Z",
     "iopub.status.busy": "2024-09-30T14:19:24.119373Z",
     "iopub.status.idle": "2024-09-30T14:19:24.132472Z",
     "shell.execute_reply": "2024-09-30T14:19:24.131446Z",
     "shell.execute_reply.started": "2024-09-30T14:19:24.119710Z"
    }
   },
   "outputs": [
    {
     "data": {
      "text/plain": [
       "ID         645\n",
       "text       645\n",
       "feeling    645\n",
       "dtype: int64"
      ]
     },
     "execution_count": 18,
     "metadata": {},
     "output_type": "execute_result"
    }
   ],
   "source": [
    "df.isnull().sum().sort_values(ascending=False)"
   ]
  },
  {
   "cell_type": "raw",
   "id": "41bd4967",
   "metadata": {},
   "source": []
  },
  {
   "cell_type": "markdown",
   "id": "609625a6",
   "metadata": {},
   "source": [
    "## <font color=#C0C0C0> Gereksiz Verileri Silme İşlemi Yapıyoruz - We Delete Unnecessary Data"
   ]
  },
  {
   "cell_type": "code",
   "execution_count": 19,
   "id": "7c49a88d",
   "metadata": {
    "execution": {
     "iopub.execute_input": "2024-09-30T14:19:24.134643Z",
     "iopub.status.busy": "2024-09-30T14:19:24.133872Z",
     "iopub.status.idle": "2024-09-30T14:19:24.151385Z",
     "shell.execute_reply": "2024-09-30T14:19:24.150287Z",
     "shell.execute_reply.started": "2024-09-30T14:19:24.134604Z"
    }
   },
   "outputs": [
    {
     "data": {
      "text/html": [
       "<div>\n",
       "<style scoped>\n",
       "    .dataframe tbody tr th:only-of-type {\n",
       "        vertical-align: middle;\n",
       "    }\n",
       "\n",
       "    .dataframe tbody tr th {\n",
       "        vertical-align: top;\n",
       "    }\n",
       "\n",
       "    .dataframe thead th {\n",
       "        text-align: right;\n",
       "    }\n",
       "</style>\n",
       "<table border=\"1\" class=\"dataframe\">\n",
       "  <thead>\n",
       "    <tr style=\"text-align: right;\">\n",
       "      <th></th>\n",
       "      <th>text</th>\n",
       "      <th>feeling</th>\n",
       "    </tr>\n",
       "  </thead>\n",
       "  <tbody>\n",
       "    <tr>\n",
       "      <th>0</th>\n",
       "      <td>J@lisastarlyRnEI haven't heard anytVing. I'll ...</td>\n",
       "      <td>0.0</td>\n",
       "    </tr>\n",
       "  </tbody>\n",
       "</table>\n",
       "</div>"
      ],
      "text/plain": [
       "                                                text  feeling\n",
       "0  J@lisastarlyRnEI haven't heard anytVing. I'll ...      0.0"
      ]
     },
     "execution_count": 19,
     "metadata": {},
     "output_type": "execute_result"
    }
   ],
   "source": [
    "df=df.drop('ID',axis=1)\n",
    "df.head(1)"
   ]
  },
  {
   "cell_type": "raw",
   "id": "7973d2dc",
   "metadata": {},
   "source": []
  },
  {
   "cell_type": "markdown",
   "id": "d317ac4d",
   "metadata": {},
   "source": [
    "## <font color='#ff4d00'> Boşluk Varsa Doldurmaya, Düzeltilecek Kısım Varsa Düzeltmeye Başladık - If there is a gap, we started to fill it and if there is a part to be corrected, we started to correct it."
   ]
  },
  {
   "cell_type": "code",
   "execution_count": 20,
   "id": "9d057c13",
   "metadata": {
    "execution": {
     "iopub.execute_input": "2024-09-30T14:19:24.153150Z",
     "iopub.status.busy": "2024-09-30T14:19:24.152720Z",
     "iopub.status.idle": "2024-09-30T14:19:24.175338Z",
     "shell.execute_reply": "2024-09-30T14:19:24.174117Z",
     "shell.execute_reply.started": "2024-09-30T14:19:24.153094Z"
    }
   },
   "outputs": [
    {
     "name": "stdout",
     "output_type": "stream",
     "text": [
      "\n",
      "Sütun: text\n",
      "Nunique Değerler: 18429\n",
      "Unique Değerler: [\"J@lisastarlyRnEI haven't heard anytVing. I'll tweet you as aoon as I hear. I'mvQreallyxworrxied actually\"\n",
      " \"Just grabbed some bagelLt from Pdnera for everyone at wk. It's Brittany's last day\"\n",
      " '@poepjaqndzegiant oopY just saw you said helloM! Hi there' ...\n",
      " 'p@curtsmith LLok chilly - I Ithink I woupld stay in and read a book'\n",
      " \"I'm grarduating today!L  Four yearsSsweet too fast.\"\n",
      " \"@mickeymab Gmine's inpmy prPofile - 'e77cb550 and hectoH's is a 'J2 bmw q75/5 there's Fmore photWos oh Kmy fb. checck out alabama roadtrip!\"]\n",
      "\n",
      "Sütun: feeling\n",
      "Nunique Değerler: 2\n",
      "Unique Değerler: [0.0, 1.0]\n"
     ]
    }
   ],
   "source": [
    "for column in df.columns:\n",
    "    # TR = Verideki her bir sütun için döngü başlatılıyor  \n",
    "    # EN = Loops through each column in the dataframe\n",
    "\n",
    "    print(f\"\\nSütun: {column}\")  \n",
    "    # TR = Sütun ismi ekrana yazdırılıyor  \n",
    "    # EN = Prints the column name\n",
    "\n",
    "    unique = df[column].dropna().unique()  \n",
    "    # TR = NaN değerleri düşürerek benzersiz değerler elde ediliyor  \n",
    "    # EN = Gets the unique values after dropping NaN values\n",
    "\n",
    "    if pd.api.types.is_numeric_dtype(df[column]):  \n",
    "        # TR = Eğer sütundaki değerler sayısal ise, değerler sıralanıyor  \n",
    "        # EN = If the column is of numeric type, the unique values are sorted\n",
    "        unique = sorted(unique)\n",
    "        \n",
    "    nunique = len(unique)  # Benzersiz değerlerin sayısını hesapla\n",
    "    # TR = Benzersiz değerlerin sayısını hesaplar  \n",
    "    # EN = Calculates the number of unique values\n",
    "\n",
    "    print(f\"Nunique Değerler: {nunique}\")  \n",
    "    # TR = Benzersiz değerlerin sayısını ekrana yazdırır  \n",
    "    # EN = Prints the number of unique values\n",
    "\n",
    "    print(f\"Unique Değerler: {unique}\")  \n",
    "    # TR = Benzersiz değerler ekrana yazdırılıyor  \n",
    "    # EN = Prints the unique values"
   ]
  },
  {
   "cell_type": "code",
   "execution_count": 21,
   "id": "2f162876",
   "metadata": {
    "execution": {
     "iopub.execute_input": "2024-09-30T14:19:24.177205Z",
     "iopub.status.busy": "2024-09-30T14:19:24.176788Z",
     "iopub.status.idle": "2024-09-30T14:19:24.186651Z",
     "shell.execute_reply": "2024-09-30T14:19:24.185500Z",
     "shell.execute_reply.started": "2024-09-30T14:19:24.177157Z"
    }
   },
   "outputs": [],
   "source": [
    "df=df.dropna()"
   ]
  },
  {
   "cell_type": "code",
   "execution_count": 22,
   "id": "a869958d",
   "metadata": {
    "execution": {
     "iopub.execute_input": "2024-09-30T14:19:24.188710Z",
     "iopub.status.busy": "2024-09-30T14:19:24.188330Z",
     "iopub.status.idle": "2024-09-30T14:19:24.199450Z",
     "shell.execute_reply": "2024-09-30T14:19:24.198228Z",
     "shell.execute_reply.started": "2024-09-30T14:19:24.188673Z"
    }
   },
   "outputs": [
    {
     "data": {
      "text/plain": [
       "\"J@lisastarlyRnEI haven't heard anytVing. I'll tweet you as aoon as I hear. I'mvQreallyxworrxied actually\""
      ]
     },
     "execution_count": 22,
     "metadata": {},
     "output_type": "execute_result"
    }
   ],
   "source": [
    "df['text'][0]"
   ]
  },
  {
   "cell_type": "code",
   "execution_count": 23,
   "id": "1cf000bf",
   "metadata": {
    "execution": {
     "iopub.execute_input": "2024-09-30T14:19:24.201190Z",
     "iopub.status.busy": "2024-09-30T14:19:24.200799Z",
     "iopub.status.idle": "2024-09-30T14:19:24.363198Z",
     "shell.execute_reply": "2024-09-30T14:19:24.362242Z",
     "shell.execute_reply.started": "2024-09-30T14:19:24.201131Z"
    }
   },
   "outputs": [],
   "source": [
    "def algo_text(df):\n",
    "\n",
    "  for col in df.columns:\n",
    "    if df[col].dtype=='object':\n",
    "      df[col] = df[col].str.lower()\n",
    "      df[col] = df[col].str.replace('[^\\w\\s]', '', regex=True)\n",
    "      df[col] = df[col].str.replace('\\n', '')\n",
    "      df[col] = df[col].str.replace('\\d', '')\n",
    "      df[col] = df[col].str.replace('\\r', '')\n",
    "      df[col] = df[col].str.replace('.', '')\n",
    "      df[col] = df[col].str.replace(',', '')\n",
    "    return df\n",
    "    # TR = Bu kod data type object olan verilerin buluyor ve onlarda istenmeyen işartetleri kaldırıyor.\n",
    "    # EN = This code finds the data with data type object and removes the unwanted marks from them.\n",
    "\n",
    "df=algo_text(df)"
   ]
  },
  {
   "cell_type": "code",
   "execution_count": 24,
   "id": "008a2eb0",
   "metadata": {
    "execution": {
     "iopub.execute_input": "2024-09-30T14:19:24.364775Z",
     "iopub.status.busy": "2024-09-30T14:19:24.364418Z",
     "iopub.status.idle": "2024-09-30T14:19:24.376379Z",
     "shell.execute_reply": "2024-09-30T14:19:24.375337Z",
     "shell.execute_reply.started": "2024-09-30T14:19:24.364738Z"
    }
   },
   "outputs": [
    {
     "data": {
      "text/html": [
       "<div>\n",
       "<style scoped>\n",
       "    .dataframe tbody tr th:only-of-type {\n",
       "        vertical-align: middle;\n",
       "    }\n",
       "\n",
       "    .dataframe tbody tr th {\n",
       "        vertical-align: top;\n",
       "    }\n",
       "\n",
       "    .dataframe thead th {\n",
       "        text-align: right;\n",
       "    }\n",
       "</style>\n",
       "<table border=\"1\" class=\"dataframe\">\n",
       "  <thead>\n",
       "    <tr style=\"text-align: right;\">\n",
       "      <th></th>\n",
       "      <th>text</th>\n",
       "      <th>feeling</th>\n",
       "    </tr>\n",
       "  </thead>\n",
       "  <tbody>\n",
       "    <tr>\n",
       "      <th>0</th>\n",
       "      <td>jlisastarlyrnei havent heard anytving ill twee...</td>\n",
       "      <td>0.0</td>\n",
       "    </tr>\n",
       "    <tr>\n",
       "      <th>1</th>\n",
       "      <td>just grabbed some bagellt from pdnera for ever...</td>\n",
       "      <td>0.0</td>\n",
       "    </tr>\n",
       "    <tr>\n",
       "      <th>2</th>\n",
       "      <td>poepjaqndzegiant oopy just saw you said hellom...</td>\n",
       "      <td>1.0</td>\n",
       "    </tr>\n",
       "    <tr>\n",
       "      <th>3</th>\n",
       "      <td>kirsty_gilfo yuj thats the one  mmlyuom cha uh...</td>\n",
       "      <td>1.0</td>\n",
       "    </tr>\n",
       "    <tr>\n",
       "      <th>4</th>\n",
       "      <td>pmums off to bed niputuck time noow</td>\n",
       "      <td>1.0</td>\n",
       "    </tr>\n",
       "  </tbody>\n",
       "</table>\n",
       "</div>"
      ],
      "text/plain": [
       "                                                text  feeling\n",
       "0  jlisastarlyrnei havent heard anytving ill twee...      0.0\n",
       "1  just grabbed some bagellt from pdnera for ever...      0.0\n",
       "2  poepjaqndzegiant oopy just saw you said hellom...      1.0\n",
       "3  kirsty_gilfo yuj thats the one  mmlyuom cha uh...      1.0\n",
       "4                pmums off to bed niputuck time noow      1.0"
      ]
     },
     "execution_count": 24,
     "metadata": {},
     "output_type": "execute_result"
    }
   ],
   "source": [
    "df.head()"
   ]
  },
  {
   "cell_type": "code",
   "execution_count": 25,
   "id": "00f74521",
   "metadata": {
    "execution": {
     "iopub.execute_input": "2024-09-30T14:19:24.378415Z",
     "iopub.status.busy": "2024-09-30T14:19:24.377985Z",
     "iopub.status.idle": "2024-09-30T14:19:24.387024Z",
     "shell.execute_reply": "2024-09-30T14:19:24.386117Z",
     "shell.execute_reply.started": "2024-09-30T14:19:24.378379Z"
    }
   },
   "outputs": [
    {
     "data": {
      "text/plain": [
       "'jlisastarlyrnei havent heard anytving ill tweet you as aoon as i hear imvqreallyxworrxied actually'"
      ]
     },
     "execution_count": 25,
     "metadata": {},
     "output_type": "execute_result"
    }
   ],
   "source": [
    "df['text'][0]"
   ]
  },
  {
   "cell_type": "code",
   "execution_count": 26,
   "id": "c57e60e3",
   "metadata": {
    "execution": {
     "iopub.execute_input": "2024-09-30T14:19:24.388847Z",
     "iopub.status.busy": "2024-09-30T14:19:24.388495Z",
     "iopub.status.idle": "2024-09-30T14:24:03.125838Z",
     "shell.execute_reply": "2024-09-30T14:24:03.124439Z",
     "shell.execute_reply.started": "2024-09-30T14:19:24.388796Z"
    }
   },
   "outputs": [
    {
     "name": "stdout",
     "output_type": "stream",
     "text": [
      "{278.7263345718384} saniye\n"
     ]
    }
   ],
   "source": [
    "def detect_veri(reviewText):\n",
    "    try:\n",
    "        return detect(reviewText)\n",
    "    except:\n",
    "        return 'unknown'\n",
    "    # TR = Text sütunundaki verilerin hangi dillerde yazıldığını tespit etme.\n",
    "    # EN = Detecting in which languages ​​the data in the text column is written.\n",
    "\n",
    "start_time = time.time()\n",
    "# TR = start_time adında bir değişken tanımla, time.time() kodu ile şimdiki zamanı al.\n",
    "# EN = Define a variable called start_time and get the current time with the time.time() code.\n",
    "\n",
    "df['language']=df['text'].apply(detect_veri)\n",
    "# TR = language diye yeni bir sütün oluşturma. Oluşan yeni sütunu text bulunduğu sütunun .apply(detect_veri) kodu ile hangi dilde yazıldığını bul.\n",
    "# EN = Creating a new column called language. Find the language in which the new column contains text, using the .apply(detect_veri) code.\n",
    "\n",
    "end_time = time.time()\n",
    "# TR = end_time adında bir değişken tanımla, time.time() kodu ile şimdiki zamanı al.\n",
    "# EN = Define a variable called end_time and get the current time with the time.time() code.\n",
    "\n",
    "\n",
    "elapsed_time = end_time - start_time\n",
    "# TR = Dil tespitin ne kadar sürdüğünü bulmak için end_time'dan start_time'mı çıkar.\n",
    "# EN = Subtract start_time from end_time to find how long language detection took.\n",
    "print({elapsed_time}, \"saniye\")"
   ]
  },
  {
   "cell_type": "code",
   "execution_count": 27,
   "id": "190d70c7",
   "metadata": {
    "execution": {
     "iopub.execute_input": "2024-09-30T14:24:03.128190Z",
     "iopub.status.busy": "2024-09-30T14:24:03.127652Z",
     "iopub.status.idle": "2024-09-30T14:24:03.704287Z",
     "shell.execute_reply": "2024-09-30T14:24:03.703124Z",
     "shell.execute_reply.started": "2024-09-30T14:24:03.128136Z"
    }
   },
   "outputs": [
    {
     "data": {
      "image/png": "[encoded data removed]",
      "text/plain": [
       "<Figure size 640x480 with 1 Axes>"
      ]
     },
     "metadata": {},
     "output_type": "display_data"
    }
   ],
   "source": [
    "sns.countplot(x=df['language']);"
   ]
  },
  {
   "cell_type": "code",
   "execution_count": 28,
   "id": "13af28a8",
   "metadata": {
    "execution": {
     "iopub.execute_input": "2024-09-30T14:24:03.706173Z",
     "iopub.status.busy": "2024-09-30T14:24:03.705765Z",
     "iopub.status.idle": "2024-09-30T14:24:04.176303Z",
     "shell.execute_reply": "2024-09-30T14:24:04.175115Z",
     "shell.execute_reply.started": "2024-09-30T14:24:03.706133Z"
    }
   },
   "outputs": [
    {
     "data": {
      "image/png": "[encoded data removed]",
      "text/plain": [
       "<Figure size 640x480 with 1 Axes>"
      ]
     },
     "metadata": {},
     "output_type": "display_data"
    }
   ],
   "source": [
    "df['language'].value_counts().plot.pie(autopct='%1.1f%%');"
   ]
  },
  {
   "cell_type": "code",
   "execution_count": 29,
   "id": "da31e284",
   "metadata": {
    "execution": {
     "iopub.execute_input": "2024-09-30T14:24:04.178927Z",
     "iopub.status.busy": "2024-09-30T14:24:04.177957Z",
     "iopub.status.idle": "2024-09-30T14:24:04.200008Z",
     "shell.execute_reply": "2024-09-30T14:24:04.198838Z",
     "shell.execute_reply.started": "2024-09-30T14:24:04.178870Z"
    }
   },
   "outputs": [],
   "source": [
    "df = df[df['language'] == 'en']\n",
    "# TR = language sütunundaki verilerin 'en' kelimesine eşit olduğu satırları seçer.\n",
    "# EN = Selects rows where the values in the 'language' column are equal to 'en'.\n",
    "\n",
    "df.drop(index=df[df['language'] != 'en'].index, inplace=True)\n",
    "# TR = language sütunundaki 'en' kelimesine eşit olmayan satırları siler.\n",
    "# EN = Deletes rows in the 'language' column that are not equal to 'en'.\n"
   ]
  },
  {
   "cell_type": "raw",
   "id": "6c417c1e",
   "metadata": {},
   "source": []
  },
  {
   "cell_type": "markdown",
   "id": "08058edf",
   "metadata": {},
   "source": [
    "## <font color='#0ceb31'>Duygu Analizi - Sentiment Analysis"
   ]
  },
  {
   "cell_type": "markdown",
   "id": "832446e4",
   "metadata": {},
   "source": [
    "### <font color=#06c750>Yorumların Olumlumu ya da Olumsuzmu Olduğunu Tespit Etme - Determining Whether Comments Have Death or Immortality"
   ]
  },
  {
   "cell_type": "code",
   "execution_count": 30,
   "id": "b1acd34e",
   "metadata": {
    "execution": {
     "iopub.execute_input": "2024-09-30T14:24:04.202475Z",
     "iopub.status.busy": "2024-09-30T14:24:04.201716Z",
     "iopub.status.idle": "2024-09-30T14:24:04.219207Z",
     "shell.execute_reply": "2024-09-30T14:24:04.217747Z",
     "shell.execute_reply.started": "2024-09-30T14:24:04.202419Z"
    }
   },
   "outputs": [],
   "source": [
    "df['sentiment']=df['feeling']\n",
    "df['sentiment']=df['sentiment'].replace([1],'olumlu')\n",
    "df['sentiment']=df['sentiment'].replace([0],'olumsuz')\n",
    "# TR = sentiment diye yeni bir sütun oluşturup () sütünundaki verilere eşitledik. [1],'olumlu', [0],'olumsuz'\n",
    "# EN = We created a new column called sentiment and set it equal to the data in the () column. [1],'positive', [0],'negative'"
   ]
  },
  {
   "cell_type": "code",
   "execution_count": 31,
   "id": "a6179791",
   "metadata": {
    "execution": {
     "iopub.execute_input": "2024-09-30T14:24:04.222342Z",
     "iopub.status.busy": "2024-09-30T14:24:04.221056Z",
     "iopub.status.idle": "2024-09-30T14:24:04.231094Z",
     "shell.execute_reply": "2024-09-30T14:24:04.229676Z",
     "shell.execute_reply.started": "2024-09-30T14:24:04.222281Z"
    }
   },
   "outputs": [],
   "source": [
    "#df=df[['a','b','sentiment']]# a yerine puan ya da yıldız gibi değerini belirten sayı, b yerine yazımızın bulunduğu sütün adı\n",
    "\n",
    "df=df[['feeling','text','sentiment']]"
   ]
  },
  {
   "cell_type": "code",
   "execution_count": 32,
   "id": "67737fb3",
   "metadata": {
    "execution": {
     "iopub.execute_input": "2024-09-30T14:24:04.233898Z",
     "iopub.status.busy": "2024-09-30T14:24:04.232892Z",
     "iopub.status.idle": "2024-09-30T14:24:04.253798Z",
     "shell.execute_reply": "2024-09-30T14:24:04.252403Z",
     "shell.execute_reply.started": "2024-09-30T14:24:04.233832Z"
    }
   },
   "outputs": [],
   "source": [
    "df=df[(df['sentiment']=='olumlu')|(df['sentiment']=='olumsuz')]\n",
    "# TR = sentimentimizi olumlu ya da olumsuzolacak şekilde tanımladık.\n",
    "# EN = We defined our sentiment as positive, negative"
   ]
  },
  {
   "cell_type": "code",
   "execution_count": 33,
   "id": "b926fda6",
   "metadata": {
    "execution": {
     "iopub.execute_input": "2024-09-30T14:24:04.257062Z",
     "iopub.status.busy": "2024-09-30T14:24:04.256503Z",
     "iopub.status.idle": "2024-09-30T14:24:04.266276Z",
     "shell.execute_reply": "2024-09-30T14:24:04.264614Z",
     "shell.execute_reply.started": "2024-09-30T14:24:04.257003Z"
    }
   },
   "outputs": [],
   "source": [
    "df.reset_index(drop=True,inplace=True)\n",
    "# TR = Yukarıda yaptığımız işlem neticesinde olumlu,notr,olumsuz kelimeler kendi içlerinde üst üste oldular. Bu yüzden indexlerini sıfırlayıp tekrar verdik.\n",
    "# EN = As a result of the process we did above, positive, neutral and negative words were placed on top of each other. That's why we reset their indexes and gave them again."
   ]
  },
  {
   "cell_type": "code",
   "execution_count": 34,
   "id": "4b02d747",
   "metadata": {
    "execution": {
     "iopub.execute_input": "2024-09-30T14:24:04.274975Z",
     "iopub.status.busy": "2024-09-30T14:24:04.274514Z",
     "iopub.status.idle": "2024-09-30T14:24:04.281151Z",
     "shell.execute_reply": "2024-09-30T14:24:04.279801Z",
     "shell.execute_reply.started": "2024-09-30T14:24:04.274930Z"
    }
   },
   "outputs": [],
   "source": [
    "x=df['text']\n",
    "y=df['sentiment']"
   ]
  },
  {
   "cell_type": "code",
   "execution_count": 35,
   "id": "48a1e86e",
   "metadata": {
    "execution": {
     "iopub.execute_input": "2024-09-30T14:24:04.283218Z",
     "iopub.status.busy": "2024-09-30T14:24:04.282798Z",
     "iopub.status.idle": "2024-09-30T14:24:04.295390Z",
     "shell.execute_reply": "2024-09-30T14:24:04.294273Z",
     "shell.execute_reply.started": "2024-09-30T14:24:04.283171Z"
    }
   },
   "outputs": [],
   "source": [
    "yelpbw = df[(df.feeling == 0) | (df.feeling == 1)]"
   ]
  },
  {
   "cell_type": "code",
   "execution_count": 36,
   "id": "bc1d4878",
   "metadata": {
    "execution": {
     "iopub.execute_input": "2024-09-30T14:24:04.298068Z",
     "iopub.status.busy": "2024-09-30T14:24:04.297063Z",
     "iopub.status.idle": "2024-09-30T14:24:04.305044Z",
     "shell.execute_reply": "2024-09-30T14:24:04.303908Z",
     "shell.execute_reply.started": "2024-09-30T14:24:04.298015Z"
    }
   },
   "outputs": [],
   "source": [
    "yelpbw.reset_index(drop=True,inplace=True)"
   ]
  },
  {
   "cell_type": "code",
   "execution_count": 37,
   "id": "1311b987",
   "metadata": {
    "execution": {
     "iopub.execute_input": "2024-09-30T14:24:04.307098Z",
     "iopub.status.busy": "2024-09-30T14:24:04.306668Z",
     "iopub.status.idle": "2024-09-30T14:24:04.318525Z",
     "shell.execute_reply": "2024-09-30T14:24:04.317303Z",
     "shell.execute_reply.started": "2024-09-30T14:24:04.307035Z"
    }
   },
   "outputs": [],
   "source": [
    "vect=CountVectorizer(stop_words='english',ngram_range=(1,2))"
   ]
  },
  {
   "cell_type": "code",
   "execution_count": 38,
   "id": "c8e81d52",
   "metadata": {
    "execution": {
     "iopub.execute_input": "2024-09-30T14:24:04.320919Z",
     "iopub.status.busy": "2024-09-30T14:24:04.320430Z",
     "iopub.status.idle": "2024-09-30T14:24:04.330246Z",
     "shell.execute_reply": "2024-09-30T14:24:04.329153Z",
     "shell.execute_reply.started": "2024-09-30T14:24:04.320864Z"
    }
   },
   "outputs": [],
   "source": [
    "x=yelpbw[\"text\"]\n",
    "y=yelpbw[\"feeling\"]"
   ]
  },
  {
   "cell_type": "code",
   "execution_count": 39,
   "id": "b8452527",
   "metadata": {
    "execution": {
     "iopub.execute_input": "2024-09-30T14:24:04.332252Z",
     "iopub.status.busy": "2024-09-30T14:24:04.331827Z",
     "iopub.status.idle": "2024-09-30T14:24:05.375891Z",
     "shell.execute_reply": "2024-09-30T14:24:05.374869Z",
     "shell.execute_reply.started": "2024-09-30T14:24:04.332210Z"
    }
   },
   "outputs": [],
   "source": [
    "vect=CountVectorizer()\n",
    "x=vect.fit_transform(x)"
   ]
  },
  {
   "cell_type": "code",
   "execution_count": 40,
   "id": "16a4faa5",
   "metadata": {
    "execution": {
     "iopub.execute_input": "2024-09-30T14:24:05.377914Z",
     "iopub.status.busy": "2024-09-30T14:24:05.377440Z",
     "iopub.status.idle": "2024-09-30T14:24:05.384509Z",
     "shell.execute_reply": "2024-09-30T14:24:05.383167Z",
     "shell.execute_reply.started": "2024-09-30T14:24:05.377862Z"
    }
   },
   "outputs": [],
   "source": [
    "def lemmafn(Review):\n",
    "    words=TextBlob.words\n",
    "    return [pr.stem(word) for word in words]"
   ]
  },
  {
   "cell_type": "raw",
   "id": "99522b50",
   "metadata": {},
   "source": []
  },
  {
   "cell_type": "markdown",
   "id": "832c6645",
   "metadata": {},
   "source": [
    "## <font color=#10e6e6> En çok Sayıdaki Kelimeleri Kap İçine Alma - Containing the Most Numbered Words "
   ]
  },
  {
   "cell_type": "code",
   "execution_count": 41,
   "id": "474ffa5c",
   "metadata": {
    "execution": {
     "iopub.execute_input": "2024-09-30T14:24:05.386385Z",
     "iopub.status.busy": "2024-09-30T14:24:05.385964Z",
     "iopub.status.idle": "2024-09-30T14:24:05.398743Z",
     "shell.execute_reply": "2024-09-30T14:24:05.397612Z",
     "shell.execute_reply.started": "2024-09-30T14:24:05.386335Z"
    }
   },
   "outputs": [],
   "source": [
    "#wc=wordcloud\n",
    "def wc(data,bgcolor):\n",
    "    plt.figure(figsize=(10,10))\n",
    "    # TR = Kabımızın boyutunu belirttik.\n",
    "    # EN = We specified the size of our container.\n",
    "    \n",
    "    mask=np.array(Image.open('cloud.png'))\n",
    "    # TR = Image.open ile resmimizi açtık. np.array resmi diziye çevirdik ve mask değişkenine atadık.\n",
    "    # EN = We opened our image with Image.open. We converted the np.array image to an array and assigned it to the mask variable.\n",
    "    \n",
    "    wc=WordCloud(background_color=bgcolor,stopwords=STOPWORDS,mask=mask)\n",
    "    # TR = Bir WordCloud tanımladık. Arka plan rengini bgcolor eşitledik. stopwords=STOPWORDS ile gereksiz kelimeleri atıp anahtar kelimeleri sakladık.\n",
    "    # EN = We defined a WordCloud. We set the background color equal to bgcolor. We removed unnecessary words and kept keywords with stopwords=STOPWORDS\n",
    "\n",
    "    # TR = mask=mask yukarıda tanımladığımız mask değişkenini kullan.\n",
    "    # EN = mask=mask use the mask variable we defined above.\n",
    "    wc.generate(''.join(data))\n",
    "    # TR = .join(data) ile bütün sütündaki text alıp birleştirecek. \n",
    "    # EN = With .join(data) it will take the text in all columns and combine them.\n",
    "\n",
    "    # TR = İçinde geçen tüm kelimeleri sayacak ve hafızada tutup generate ile tanımladığımız WordCloud oluşturduk ona eşitleyecek. \n",
    "    # EN = It will count all the words in it, keep it in memory and synchronize it with the WordCloud we created with generate.\n",
    "    \n",
    "    plt.imshow(wc)\n",
    "    plt.axis('off')\n",
    "    # TR = Bunla kod ile x ve y gözükmüyor.\n",
    "    # EN = With this code, x and y do not appear.\n",
    "    "
   ]
  },
  {
   "cell_type": "code",
   "execution_count": 42,
   "id": "2149d495",
   "metadata": {
    "execution": {
     "iopub.execute_input": "2024-09-30T14:24:05.400930Z",
     "iopub.status.busy": "2024-09-30T14:24:05.400518Z",
     "iopub.status.idle": "2024-09-30T14:24:05.418546Z",
     "shell.execute_reply": "2024-09-30T14:24:05.417339Z",
     "shell.execute_reply.started": "2024-09-30T14:24:05.400888Z"
    }
   },
   "outputs": [],
   "source": [
    "olumlu=df[df['feeling']==1]['text']\n",
    "olumsuz=df[df['feeling']==0]['text']"
   ]
  },
  {
   "cell_type": "code",
   "execution_count": 43,
   "id": "438dbb64",
   "metadata": {
    "execution": {
     "iopub.execute_input": "2024-09-30T14:24:05.420540Z",
     "iopub.status.busy": "2024-09-30T14:24:05.420133Z",
     "iopub.status.idle": "2024-09-30T14:24:05.947013Z",
     "shell.execute_reply": "2024-09-30T14:24:05.945156Z",
     "shell.execute_reply.started": "2024-09-30T14:24:05.420498Z"
    }
   },
   "outputs": [
    {
     "ename": "FileNotFoundError",
     "evalue": "[Errno 2] No such file or directory: '/kaggle/working/cloud.png'",
     "output_type": "error",
     "traceback": [
      "\u001b[0;31m---------------------------------------------------------------------------\u001b[0m",
      "\u001b[0;31mFileNotFoundError\u001b[0m                         Traceback (most recent call last)",
      "Cell \u001b[0;32mIn[43], line 1\u001b[0m\n\u001b[0;32m----> 1\u001b[0m \u001b[43mwc\u001b[49m\u001b[43m(\u001b[49m\u001b[43molumlu\u001b[49m\u001b[43m,\u001b[49m\u001b[38;5;124;43m'\u001b[39;49m\u001b[38;5;124;43mwhite\u001b[39;49m\u001b[38;5;124;43m'\u001b[39;49m\u001b[43m)\u001b[49m\n",
      "Cell \u001b[0;32mIn[41], line 7\u001b[0m, in \u001b[0;36mwc\u001b[0;34m(data, bgcolor)\u001b[0m\n\u001b[1;32m      3\u001b[0m plt\u001b[38;5;241m.\u001b[39mfigure(figsize\u001b[38;5;241m=\u001b[39m(\u001b[38;5;241m10\u001b[39m,\u001b[38;5;241m10\u001b[39m))\n\u001b[1;32m      4\u001b[0m \u001b[38;5;66;03m# TR = Kabımızın boyutunu belirttik.\u001b[39;00m\n\u001b[1;32m      5\u001b[0m \u001b[38;5;66;03m# EN = We specified the size of our container.\u001b[39;00m\n\u001b[0;32m----> 7\u001b[0m mask\u001b[38;5;241m=\u001b[39mnp\u001b[38;5;241m.\u001b[39marray(\u001b[43mImage\u001b[49m\u001b[38;5;241;43m.\u001b[39;49m\u001b[43mopen\u001b[49m\u001b[43m(\u001b[49m\u001b[38;5;124;43m'\u001b[39;49m\u001b[38;5;124;43mcloud.png\u001b[39;49m\u001b[38;5;124;43m'\u001b[39;49m\u001b[43m)\u001b[49m)\n\u001b[1;32m      8\u001b[0m \u001b[38;5;66;03m# TR = Image.open ile resmimizi açtık. np.array resmi diziye çevirdik ve mask değişkenine atadık.\u001b[39;00m\n\u001b[1;32m      9\u001b[0m \u001b[38;5;66;03m# EN = We opened our image with Image.open. We converted the np.array image to an array and assigned it to the mask variable.\u001b[39;00m\n\u001b[1;32m     11\u001b[0m wc\u001b[38;5;241m=\u001b[39mWordCloud(background_color\u001b[38;5;241m=\u001b[39mbgcolor,stopwords\u001b[38;5;241m=\u001b[39mSTOPWORDS,mask\u001b[38;5;241m=\u001b[39mmask)\n",
      "File \u001b[0;32m/opt/conda/lib/python3.10/site-packages/PIL/Image.py:3431\u001b[0m, in \u001b[0;36mopen\u001b[0;34m(fp, mode, formats)\u001b[0m\n\u001b[1;32m   3428\u001b[0m     filename \u001b[38;5;241m=\u001b[39m os\u001b[38;5;241m.\u001b[39mpath\u001b[38;5;241m.\u001b[39mrealpath(os\u001b[38;5;241m.\u001b[39mfspath(fp))\n\u001b[1;32m   3430\u001b[0m \u001b[38;5;28;01mif\u001b[39;00m filename:\n\u001b[0;32m-> 3431\u001b[0m     fp \u001b[38;5;241m=\u001b[39m \u001b[43mbuiltins\u001b[49m\u001b[38;5;241;43m.\u001b[39;49m\u001b[43mopen\u001b[49m\u001b[43m(\u001b[49m\u001b[43mfilename\u001b[49m\u001b[43m,\u001b[49m\u001b[43m \u001b[49m\u001b[38;5;124;43m\"\u001b[39;49m\u001b[38;5;124;43mrb\u001b[39;49m\u001b[38;5;124;43m\"\u001b[39;49m\u001b[43m)\u001b[49m\n\u001b[1;32m   3432\u001b[0m     exclusive_fp \u001b[38;5;241m=\u001b[39m \u001b[38;5;28;01mTrue\u001b[39;00m\n\u001b[1;32m   3433\u001b[0m \u001b[38;5;28;01melse\u001b[39;00m:\n",
      "\u001b[0;31mFileNotFoundError\u001b[0m: [Errno 2] No such file or directory: '/kaggle/working/cloud.png'"
     ]
    },
    {
     "data": {
      "text/plain": [
       "<Figure size 1000x1000 with 0 Axes>"
      ]
     },
     "metadata": {},
     "output_type": "display_data"
    }
   ],
   "source": [
    "wc(olumlu,'white')"
   ]
  },
  {
   "cell_type": "code",
   "execution_count": null,
   "id": "2c0ab7fe",
   "metadata": {
    "execution": {
     "iopub.status.busy": "2024-09-30T14:24:05.948563Z",
     "iopub.status.idle": "2024-09-30T14:24:05.949244Z",
     "shell.execute_reply": "2024-09-30T14:24:05.948928Z",
     "shell.execute_reply.started": "2024-09-30T14:24:05.948897Z"
    }
   },
   "outputs": [],
   "source": [
    "wc(olumsuz,'white')"
   ]
  },
  {
   "cell_type": "code",
   "execution_count": null,
   "id": "c8deea51",
   "metadata": {},
   "outputs": [],
   "source": []
  },
  {
   "cell_type": "markdown",
   "id": "418b1840",
   "metadata": {},
   "source": [
    "## <font color='#0F52BA'> Öznitelik Mühendisliği - Feature Engineering"
   ]
  },
  {
   "cell_type": "markdown",
   "id": "bdaa13dd",
   "metadata": {},
   "source": [
    "### <font color=#007fff> Model - Modelling"
   ]
  },
  {
   "cell_type": "code",
   "execution_count": 44,
   "id": "c411359b",
   "metadata": {
    "execution": {
     "iopub.execute_input": "2024-09-30T14:32:13.962141Z",
     "iopub.status.busy": "2024-09-30T14:32:13.961608Z",
     "iopub.status.idle": "2024-09-30T14:32:13.968474Z",
     "shell.execute_reply": "2024-09-30T14:32:13.967158Z",
     "shell.execute_reply.started": "2024-09-30T14:32:13.962098Z"
    }
   },
   "outputs": [],
   "source": [
    "x=yelpbw[\"text\"]\n",
    "y=yelpbw[\"feeling\"]"
   ]
  },
  {
   "cell_type": "code",
   "execution_count": 45,
   "id": "b25f30fb",
   "metadata": {
    "execution": {
     "iopub.execute_input": "2024-09-30T14:32:13.972220Z",
     "iopub.status.busy": "2024-09-30T14:32:13.971041Z",
     "iopub.status.idle": "2024-09-30T14:32:15.140179Z",
     "shell.execute_reply": "2024-09-30T14:32:15.138969Z",
     "shell.execute_reply.started": "2024-09-30T14:32:13.972165Z"
    }
   },
   "outputs": [],
   "source": [
    "vectorizer = TfidfVectorizer(max_features=5000)\n",
    "x = vectorizer.fit_transform(x).toarray()"
   ]
  },
  {
   "cell_type": "code",
   "execution_count": 46,
   "id": "593d6182",
   "metadata": {
    "execution": {
     "iopub.execute_input": "2024-09-30T14:32:15.142147Z",
     "iopub.status.busy": "2024-09-30T14:32:15.141730Z",
     "iopub.status.idle": "2024-09-30T14:32:15.551592Z",
     "shell.execute_reply": "2024-09-30T14:32:15.550428Z",
     "shell.execute_reply.started": "2024-09-30T14:32:15.142093Z"
    }
   },
   "outputs": [],
   "source": [
    "x_train,x_test,y_train,y_test=train_test_split(x,y,test_size=.20,random_state=42)\n",
    "# TR = modelimizi eğittik. \n",
    "# EN = We trained our model."
   ]
  },
  {
   "cell_type": "code",
   "execution_count": 47,
   "id": "35686dfa",
   "metadata": {
    "execution": {
     "iopub.execute_input": "2024-09-30T14:32:15.555221Z",
     "iopub.status.busy": "2024-09-30T14:32:15.554786Z",
     "iopub.status.idle": "2024-09-30T14:33:30.826333Z",
     "shell.execute_reply": "2024-09-30T14:33:30.825269Z",
     "shell.execute_reply.started": "2024-09-30T14:32:15.555178Z"
    }
   },
   "outputs": [
    {
     "name": "stdout",
     "output_type": "stream",
     "text": [
      "Epoch 1/100\n",
      "\u001b[1m163/163\u001b[0m \u001b[32m━━━━━━━━━━━━━━━━━━━━\u001b[0m\u001b[37m\u001b[0m \u001b[1m14s\u001b[0m 56ms/step - accuracy: 0.5199 - loss: 0.8470 - val_accuracy: 0.5617 - val_loss: 0.6887\n",
      "Epoch 2/100\n",
      "\u001b[1m163/163\u001b[0m \u001b[32m━━━━━━━━━━━━━━━━━━━━\u001b[0m\u001b[37m\u001b[0m \u001b[1m9s\u001b[0m 54ms/step - accuracy: 0.5942 - loss: 0.6734 - val_accuracy: 0.5752 - val_loss: 0.6711\n",
      "Epoch 3/100\n",
      "\u001b[1m163/163\u001b[0m \u001b[32m━━━━━━━━━━━━━━━━━━━━\u001b[0m\u001b[37m\u001b[0m \u001b[1m10s\u001b[0m 52ms/step - accuracy: 0.7212 - loss: 0.5600 - val_accuracy: 0.6253 - val_loss: 0.6386\n",
      "Epoch 4/100\n",
      "\u001b[1m163/163\u001b[0m \u001b[32m━━━━━━━━━━━━━━━━━━━━\u001b[0m\u001b[37m\u001b[0m \u001b[1m8s\u001b[0m 51ms/step - accuracy: 0.7996 - loss: 0.4498 - val_accuracy: 0.6303 - val_loss: 0.6825\n",
      "Epoch 5/100\n",
      "\u001b[1m163/163\u001b[0m \u001b[32m━━━━━━━━━━━━━━━━━━━━\u001b[0m\u001b[37m\u001b[0m \u001b[1m8s\u001b[0m 52ms/step - accuracy: 0.8565 - loss: 0.3423 - val_accuracy: 0.6307 - val_loss: 0.8185\n",
      "Epoch 6/100\n",
      "\u001b[1m163/163\u001b[0m \u001b[32m━━━━━━━━━━━━━━━━━━━━\u001b[0m\u001b[37m\u001b[0m \u001b[1m9s\u001b[0m 55ms/step - accuracy: 0.9075 - loss: 0.2494 - val_accuracy: 0.6222 - val_loss: 0.9635\n",
      "Epoch 7/100\n",
      "\u001b[1m163/163\u001b[0m \u001b[32m━━━━━━━━━━━━━━━━━━━━\u001b[0m\u001b[37m\u001b[0m \u001b[1m8s\u001b[0m 50ms/step - accuracy: 0.9245 - loss: 0.2066 - val_accuracy: 0.6264 - val_loss: 1.0769\n",
      "Epoch 8/100\n",
      "\u001b[1m163/163\u001b[0m \u001b[32m━━━━━━━━━━━━━━━━━━━━\u001b[0m\u001b[37m\u001b[0m \u001b[1m8s\u001b[0m 49ms/step - accuracy: 0.9334 - loss: 0.1767 - val_accuracy: 0.6272 - val_loss: 1.1440\n"
     ]
    }
   ],
   "source": [
    "model=Sequential()\n",
    "model.add(Dense(1024,activation='relu',input_dim=x_train.shape[1]))\n",
    "# TR = Bu katman, tüm giriş nöronlarına bağlantı kurar ve her nöronun ağırlıklarını öğrenir. 256 nöron var.\n",
    "# Aktivasyon fonksiyonunu ReLU (Rectified Linear Unit) olarak ayarlar. ReLU fonksiyonu, negatif değerleri sıfıra dönüştürür ve pozitif değerleri olduğu gibi bırakır.\n",
    "# EN = This layer connects all input neurons and learns the weights of each neuron. There are 256 neurons.\n",
    "# Sets the activation function to ReLU (Rectified Linear Unit). The ReLU function converts negative values ​​to zero and leaves positive values ​​as is.\n",
    "\n",
    "model.add(BatchNormalization())\n",
    "# TR = Bu katman, modelin eğitim sürecini daha stabil hale getirmek için kullanılır.\n",
    "# EN = This layer is used to make the training process of the model more stable.\n",
    "\n",
    "model.add(Dropout(0.3))\n",
    "# TR = Derin öğrenme modelinde aşırı uyumu (overfitting) azaltmak için kullanılır. Genelde 0.2 ile 0.5 arasında olur.\n",
    "# EN = It is used to reduce overfitting in the deep learning model. It is generally between 0.2 and 0.5.\n",
    "\n",
    "model.add(Dense(128,activation='relu',input_dim=x_train.shape[1]))\n",
    "model.add(BatchNormalization())\n",
    "model.add(Dropout(0.3))\n",
    "\n",
    "model.add(Dense(64,activation='relu',input_dim=x_train.shape[1]))\n",
    "model.add(BatchNormalization())\n",
    "model.add(Dropout(0.3))\n",
    "\n",
    "model.add(Dense(32,activation='relu'))\n",
    "model.add(BatchNormalization())\n",
    "model.add(Dropout(0.3))\n",
    "\n",
    "model.add(Dense(16,activation='relu'))\n",
    "model.add(BatchNormalization())\n",
    "model.add(Dropout(0.3))\n",
    "\n",
    "model.add(Dense(1, activation='sigmoid'))\n",
    "# TR = Sigmoid fonksiyonu, çıktı değerini 0 ile 1 arasında sınırlayarak iki sınıflı (binary) sınıflandırma problemleri için kullanılır.\n",
    "# EN = The sigmoid function is used for binary classification problems, limiting the output value between 0 and 1.\n",
    "\n",
    "early_stopping = EarlyStopping(monitor='val_loss', patience=5, restore_best_weights=True)\n",
    "# TR = EarlyStopping ekleyin: Eğitim sırasında model performansı iyileşmediğinde erken durması için kullanıyoruz.\n",
    "# EN = Add EarlyStopping: We use it to stop early when model performance does not improve during training.\n",
    "\n",
    "# TR = val_loss 5 epoch boyunca iyileşmezse eğitimi durduruyor ve en iyi ağırlıkları geri yüklüyor.\n",
    "# EN = If val_loss does not improve for 5 epochs, it stops training and restores the best weights.\n",
    "\n",
    "model.compile(loss='binary_crossentropy',optimizer='adam',metrics=['accuracy'])\n",
    "\n",
    "# TR = İkili sınıflandırma (çıktı katmanı sigmoid aktivasyon kullanır).\n",
    "# TR = Tahmin edilen olasılık ile gerçek ikili etiketler arasındaki farkı ölçer.\n",
    "# TR = optimizer='adam': Adam (Adaptive Moment Estimation) optimizasyon algoritması, modelin ağırlıklarını güncellerken kullanılan bir yöntemdir.\n",
    "# TR = metrics=['accuracy']: Modelin performansını değerlendirmek için kullanılan bir ölçümdür. Doğru sınıflandırılan örneklerin toplam örneklere oranını hesaplar.\n",
    "\n",
    "# EN = Binary classification (output layer uses a sigmoid activation).\n",
    "# EN = Measures the difference between the predicted probability and the actual binary labels.\n",
    "# EN = optimizer='adam': Adam (Adaptive Moment Estimation) optimization algorithm is a method used when updating the weights of the model.\n",
    "# EN = metrics=['accuracy']: A metric used to evaluate the performance of the model. It calculates the ratio of correctly classified examples to total examples.\n",
    "\n",
    "history=model.fit(x_train, y_train, validation_split=0.2, batch_size=64, epochs=100, callbacks=[early_stopping])\n",
    "# TR = Modeli 100 epoch boyunca eğitiyoruz, fakat EarlyStopping ile durdurulabilir. Batch boyutu 128 olarak belirlenmiş.\n",
    "# EN = We train the model for 100 epochs, but it can be stopped with EarlyStopping. Batch size is set to 128."
   ]
  },
  {
   "cell_type": "code",
   "execution_count": 48,
   "id": "4e1cb0a7",
   "metadata": {
    "execution": {
     "iopub.execute_input": "2024-09-30T14:33:30.828219Z",
     "iopub.status.busy": "2024-09-30T14:33:30.827827Z",
     "iopub.status.idle": "2024-09-30T14:33:30.871742Z",
     "shell.execute_reply": "2024-09-30T14:33:30.870618Z",
     "shell.execute_reply.started": "2024-09-30T14:33:30.828179Z"
    }
   },
   "outputs": [
    {
     "data": {
      "text/html": [
       "<pre style=\"white-space:pre;overflow-x:auto;line-height:normal;font-family:Menlo,'DejaVu Sans Mono',consolas,'Courier New',monospace\"><span style=\"font-weight: bold\">Model: \"sequential\"</span>\n",
       "</pre>\n"
      ],
      "text/plain": [
       "\u001b[1mModel: \"sequential\"\u001b[0m\n"
      ]
     },
     "metadata": {},
     "output_type": "display_data"
    },
    {
     "data": {
      "text/html": [
       "<pre style=\"white-space:pre;overflow-x:auto;line-height:normal;font-family:Menlo,'DejaVu Sans Mono',consolas,'Courier New',monospace\">┏━━━━━━━━━━━━━━━━━━━━━━━━━━━━━━━━━┳━━━━━━━━━━━━━━━━━━━━━━━━┳━━━━━━━━━━━━━━━┓\n",
       "┃<span style=\"font-weight: bold\"> Layer (type)                    </span>┃<span style=\"font-weight: bold\"> Output Shape           </span>┃<span style=\"font-weight: bold\">       Param # </span>┃\n",
       "┡━━━━━━━━━━━━━━━━━━━━━━━━━━━━━━━━━╇━━━━━━━━━━━━━━━━━━━━━━━━╇━━━━━━━━━━━━━━━┩\n",
       "│ dense (<span style=\"color: #0087ff; text-decoration-color: #0087ff\">Dense</span>)                   │ (<span style=\"color: #00d7ff; text-decoration-color: #00d7ff\">None</span>, <span style=\"color: #00af00; text-decoration-color: #00af00\">1024</span>)           │     <span style=\"color: #00af00; text-decoration-color: #00af00\">5,121,024</span> │\n",
       "├─────────────────────────────────┼────────────────────────┼───────────────┤\n",
       "│ batch_normalization             │ (<span style=\"color: #00d7ff; text-decoration-color: #00d7ff\">None</span>, <span style=\"color: #00af00; text-decoration-color: #00af00\">1024</span>)           │         <span style=\"color: #00af00; text-decoration-color: #00af00\">4,096</span> │\n",
       "│ (<span style=\"color: #0087ff; text-decoration-color: #0087ff\">BatchNormalization</span>)            │                        │               │\n",
       "├─────────────────────────────────┼────────────────────────┼───────────────┤\n",
       "│ dropout (<span style=\"color: #0087ff; text-decoration-color: #0087ff\">Dropout</span>)               │ (<span style=\"color: #00d7ff; text-decoration-color: #00d7ff\">None</span>, <span style=\"color: #00af00; text-decoration-color: #00af00\">1024</span>)           │             <span style=\"color: #00af00; text-decoration-color: #00af00\">0</span> │\n",
       "├─────────────────────────────────┼────────────────────────┼───────────────┤\n",
       "│ dense_1 (<span style=\"color: #0087ff; text-decoration-color: #0087ff\">Dense</span>)                 │ (<span style=\"color: #00d7ff; text-decoration-color: #00d7ff\">None</span>, <span style=\"color: #00af00; text-decoration-color: #00af00\">128</span>)            │       <span style=\"color: #00af00; text-decoration-color: #00af00\">131,200</span> │\n",
       "├─────────────────────────────────┼────────────────────────┼───────────────┤\n",
       "│ batch_normalization_1           │ (<span style=\"color: #00d7ff; text-decoration-color: #00d7ff\">None</span>, <span style=\"color: #00af00; text-decoration-color: #00af00\">128</span>)            │           <span style=\"color: #00af00; text-decoration-color: #00af00\">512</span> │\n",
       "│ (<span style=\"color: #0087ff; text-decoration-color: #0087ff\">BatchNormalization</span>)            │                        │               │\n",
       "├─────────────────────────────────┼────────────────────────┼───────────────┤\n",
       "│ dropout_1 (<span style=\"color: #0087ff; text-decoration-color: #0087ff\">Dropout</span>)             │ (<span style=\"color: #00d7ff; text-decoration-color: #00d7ff\">None</span>, <span style=\"color: #00af00; text-decoration-color: #00af00\">128</span>)            │             <span style=\"color: #00af00; text-decoration-color: #00af00\">0</span> │\n",
       "├─────────────────────────────────┼────────────────────────┼───────────────┤\n",
       "│ dense_2 (<span style=\"color: #0087ff; text-decoration-color: #0087ff\">Dense</span>)                 │ (<span style=\"color: #00d7ff; text-decoration-color: #00d7ff\">None</span>, <span style=\"color: #00af00; text-decoration-color: #00af00\">64</span>)             │         <span style=\"color: #00af00; text-decoration-color: #00af00\">8,256</span> │\n",
       "├─────────────────────────────────┼────────────────────────┼───────────────┤\n",
       "│ batch_normalization_2           │ (<span style=\"color: #00d7ff; text-decoration-color: #00d7ff\">None</span>, <span style=\"color: #00af00; text-decoration-color: #00af00\">64</span>)             │           <span style=\"color: #00af00; text-decoration-color: #00af00\">256</span> │\n",
       "│ (<span style=\"color: #0087ff; text-decoration-color: #0087ff\">BatchNormalization</span>)            │                        │               │\n",
       "├─────────────────────────────────┼────────────────────────┼───────────────┤\n",
       "│ dropout_2 (<span style=\"color: #0087ff; text-decoration-color: #0087ff\">Dropout</span>)             │ (<span style=\"color: #00d7ff; text-decoration-color: #00d7ff\">None</span>, <span style=\"color: #00af00; text-decoration-color: #00af00\">64</span>)             │             <span style=\"color: #00af00; text-decoration-color: #00af00\">0</span> │\n",
       "├─────────────────────────────────┼────────────────────────┼───────────────┤\n",
       "│ dense_3 (<span style=\"color: #0087ff; text-decoration-color: #0087ff\">Dense</span>)                 │ (<span style=\"color: #00d7ff; text-decoration-color: #00d7ff\">None</span>, <span style=\"color: #00af00; text-decoration-color: #00af00\">32</span>)             │         <span style=\"color: #00af00; text-decoration-color: #00af00\">2,080</span> │\n",
       "├─────────────────────────────────┼────────────────────────┼───────────────┤\n",
       "│ batch_normalization_3           │ (<span style=\"color: #00d7ff; text-decoration-color: #00d7ff\">None</span>, <span style=\"color: #00af00; text-decoration-color: #00af00\">32</span>)             │           <span style=\"color: #00af00; text-decoration-color: #00af00\">128</span> │\n",
       "│ (<span style=\"color: #0087ff; text-decoration-color: #0087ff\">BatchNormalization</span>)            │                        │               │\n",
       "├─────────────────────────────────┼────────────────────────┼───────────────┤\n",
       "│ dropout_3 (<span style=\"color: #0087ff; text-decoration-color: #0087ff\">Dropout</span>)             │ (<span style=\"color: #00d7ff; text-decoration-color: #00d7ff\">None</span>, <span style=\"color: #00af00; text-decoration-color: #00af00\">32</span>)             │             <span style=\"color: #00af00; text-decoration-color: #00af00\">0</span> │\n",
       "├─────────────────────────────────┼────────────────────────┼───────────────┤\n",
       "│ dense_4 (<span style=\"color: #0087ff; text-decoration-color: #0087ff\">Dense</span>)                 │ (<span style=\"color: #00d7ff; text-decoration-color: #00d7ff\">None</span>, <span style=\"color: #00af00; text-decoration-color: #00af00\">16</span>)             │           <span style=\"color: #00af00; text-decoration-color: #00af00\">528</span> │\n",
       "├─────────────────────────────────┼────────────────────────┼───────────────┤\n",
       "│ batch_normalization_4           │ (<span style=\"color: #00d7ff; text-decoration-color: #00d7ff\">None</span>, <span style=\"color: #00af00; text-decoration-color: #00af00\">16</span>)             │            <span style=\"color: #00af00; text-decoration-color: #00af00\">64</span> │\n",
       "│ (<span style=\"color: #0087ff; text-decoration-color: #0087ff\">BatchNormalization</span>)            │                        │               │\n",
       "├─────────────────────────────────┼────────────────────────┼───────────────┤\n",
       "│ dropout_4 (<span style=\"color: #0087ff; text-decoration-color: #0087ff\">Dropout</span>)             │ (<span style=\"color: #00d7ff; text-decoration-color: #00d7ff\">None</span>, <span style=\"color: #00af00; text-decoration-color: #00af00\">16</span>)             │             <span style=\"color: #00af00; text-decoration-color: #00af00\">0</span> │\n",
       "├─────────────────────────────────┼────────────────────────┼───────────────┤\n",
       "│ dense_5 (<span style=\"color: #0087ff; text-decoration-color: #0087ff\">Dense</span>)                 │ (<span style=\"color: #00d7ff; text-decoration-color: #00d7ff\">None</span>, <span style=\"color: #00af00; text-decoration-color: #00af00\">1</span>)              │            <span style=\"color: #00af00; text-decoration-color: #00af00\">17</span> │\n",
       "└─────────────────────────────────┴────────────────────────┴───────────────┘\n",
       "</pre>\n"
      ],
      "text/plain": [
       "┏━━━━━━━━━━━━━━━━━━━━━━━━━━━━━━━━━┳━━━━━━━━━━━━━━━━━━━━━━━━┳━━━━━━━━━━━━━━━┓\n",
       "┃\u001b[1m \u001b[0m\u001b[1mLayer (type)                   \u001b[0m\u001b[1m \u001b[0m┃\u001b[1m \u001b[0m\u001b[1mOutput Shape          \u001b[0m\u001b[1m \u001b[0m┃\u001b[1m \u001b[0m\u001b[1m      Param #\u001b[0m\u001b[1m \u001b[0m┃\n",
       "┡━━━━━━━━━━━━━━━━━━━━━━━━━━━━━━━━━╇━━━━━━━━━━━━━━━━━━━━━━━━╇━━━━━━━━━━━━━━━┩\n",
       "│ dense (\u001b[38;5;33mDense\u001b[0m)                   │ (\u001b[38;5;45mNone\u001b[0m, \u001b[38;5;34m1024\u001b[0m)           │     \u001b[38;5;34m5,121,024\u001b[0m │\n",
       "├─────────────────────────────────┼────────────────────────┼───────────────┤\n",
       "│ batch_normalization             │ (\u001b[38;5;45mNone\u001b[0m, \u001b[38;5;34m1024\u001b[0m)           │         \u001b[38;5;34m4,096\u001b[0m │\n",
       "│ (\u001b[38;5;33mBatchNormalization\u001b[0m)            │                        │               │\n",
       "├─────────────────────────────────┼────────────────────────┼───────────────┤\n",
       "│ dropout (\u001b[38;5;33mDropout\u001b[0m)               │ (\u001b[38;5;45mNone\u001b[0m, \u001b[38;5;34m1024\u001b[0m)           │             \u001b[38;5;34m0\u001b[0m │\n",
       "├─────────────────────────────────┼────────────────────────┼───────────────┤\n",
       "│ dense_1 (\u001b[38;5;33mDense\u001b[0m)                 │ (\u001b[38;5;45mNone\u001b[0m, \u001b[38;5;34m128\u001b[0m)            │       \u001b[38;5;34m131,200\u001b[0m │\n",
       "├─────────────────────────────────┼────────────────────────┼───────────────┤\n",
       "│ batch_normalization_1           │ (\u001b[38;5;45mNone\u001b[0m, \u001b[38;5;34m128\u001b[0m)            │           \u001b[38;5;34m512\u001b[0m │\n",
       "│ (\u001b[38;5;33mBatchNormalization\u001b[0m)            │                        │               │\n",
       "├─────────────────────────────────┼────────────────────────┼───────────────┤\n",
       "│ dropout_1 (\u001b[38;5;33mDropout\u001b[0m)             │ (\u001b[38;5;45mNone\u001b[0m, \u001b[38;5;34m128\u001b[0m)            │             \u001b[38;5;34m0\u001b[0m │\n",
       "├─────────────────────────────────┼────────────────────────┼───────────────┤\n",
       "│ dense_2 (\u001b[38;5;33mDense\u001b[0m)                 │ (\u001b[38;5;45mNone\u001b[0m, \u001b[38;5;34m64\u001b[0m)             │         \u001b[38;5;34m8,256\u001b[0m │\n",
       "├─────────────────────────────────┼────────────────────────┼───────────────┤\n",
       "│ batch_normalization_2           │ (\u001b[38;5;45mNone\u001b[0m, \u001b[38;5;34m64\u001b[0m)             │           \u001b[38;5;34m256\u001b[0m │\n",
       "│ (\u001b[38;5;33mBatchNormalization\u001b[0m)            │                        │               │\n",
       "├─────────────────────────────────┼────────────────────────┼───────────────┤\n",
       "│ dropout_2 (\u001b[38;5;33mDropout\u001b[0m)             │ (\u001b[38;5;45mNone\u001b[0m, \u001b[38;5;34m64\u001b[0m)             │             \u001b[38;5;34m0\u001b[0m │\n",
       "├─────────────────────────────────┼────────────────────────┼───────────────┤\n",
       "│ dense_3 (\u001b[38;5;33mDense\u001b[0m)                 │ (\u001b[38;5;45mNone\u001b[0m, \u001b[38;5;34m32\u001b[0m)             │         \u001b[38;5;34m2,080\u001b[0m │\n",
       "├─────────────────────────────────┼────────────────────────┼───────────────┤\n",
       "│ batch_normalization_3           │ (\u001b[38;5;45mNone\u001b[0m, \u001b[38;5;34m32\u001b[0m)             │           \u001b[38;5;34m128\u001b[0m │\n",
       "│ (\u001b[38;5;33mBatchNormalization\u001b[0m)            │                        │               │\n",
       "├─────────────────────────────────┼────────────────────────┼───────────────┤\n",
       "│ dropout_3 (\u001b[38;5;33mDropout\u001b[0m)             │ (\u001b[38;5;45mNone\u001b[0m, \u001b[38;5;34m32\u001b[0m)             │             \u001b[38;5;34m0\u001b[0m │\n",
       "├─────────────────────────────────┼────────────────────────┼───────────────┤\n",
       "│ dense_4 (\u001b[38;5;33mDense\u001b[0m)                 │ (\u001b[38;5;45mNone\u001b[0m, \u001b[38;5;34m16\u001b[0m)             │           \u001b[38;5;34m528\u001b[0m │\n",
       "├─────────────────────────────────┼────────────────────────┼───────────────┤\n",
       "│ batch_normalization_4           │ (\u001b[38;5;45mNone\u001b[0m, \u001b[38;5;34m16\u001b[0m)             │            \u001b[38;5;34m64\u001b[0m │\n",
       "│ (\u001b[38;5;33mBatchNormalization\u001b[0m)            │                        │               │\n",
       "├─────────────────────────────────┼────────────────────────┼───────────────┤\n",
       "│ dropout_4 (\u001b[38;5;33mDropout\u001b[0m)             │ (\u001b[38;5;45mNone\u001b[0m, \u001b[38;5;34m16\u001b[0m)             │             \u001b[38;5;34m0\u001b[0m │\n",
       "├─────────────────────────────────┼────────────────────────┼───────────────┤\n",
       "│ dense_5 (\u001b[38;5;33mDense\u001b[0m)                 │ (\u001b[38;5;45mNone\u001b[0m, \u001b[38;5;34m1\u001b[0m)              │            \u001b[38;5;34m17\u001b[0m │\n",
       "└─────────────────────────────────┴────────────────────────┴───────────────┘\n"
      ]
     },
     "metadata": {},
     "output_type": "display_data"
    },
    {
     "data": {
      "text/html": [
       "<pre style=\"white-space:pre;overflow-x:auto;line-height:normal;font-family:Menlo,'DejaVu Sans Mono',consolas,'Courier New',monospace\"><span style=\"font-weight: bold\"> Total params: </span><span style=\"color: #00af00; text-decoration-color: #00af00\">15,799,429</span> (60.27 MB)\n",
       "</pre>\n"
      ],
      "text/plain": [
       "\u001b[1m Total params: \u001b[0m\u001b[38;5;34m15,799,429\u001b[0m (60.27 MB)\n"
      ]
     },
     "metadata": {},
     "output_type": "display_data"
    },
    {
     "data": {
      "text/html": [
       "<pre style=\"white-space:pre;overflow-x:auto;line-height:normal;font-family:Menlo,'DejaVu Sans Mono',consolas,'Courier New',monospace\"><span style=\"font-weight: bold\"> Trainable params: </span><span style=\"color: #00af00; text-decoration-color: #00af00\">5,265,633</span> (20.09 MB)\n",
       "</pre>\n"
      ],
      "text/plain": [
       "\u001b[1m Trainable params: \u001b[0m\u001b[38;5;34m5,265,633\u001b[0m (20.09 MB)\n"
      ]
     },
     "metadata": {},
     "output_type": "display_data"
    },
    {
     "data": {
      "text/html": [
       "<pre style=\"white-space:pre;overflow-x:auto;line-height:normal;font-family:Menlo,'DejaVu Sans Mono',consolas,'Courier New',monospace\"><span style=\"font-weight: bold\"> Non-trainable params: </span><span style=\"color: #00af00; text-decoration-color: #00af00\">2,528</span> (9.88 KB)\n",
       "</pre>\n"
      ],
      "text/plain": [
       "\u001b[1m Non-trainable params: \u001b[0m\u001b[38;5;34m2,528\u001b[0m (9.88 KB)\n"
      ]
     },
     "metadata": {},
     "output_type": "display_data"
    },
    {
     "data": {
      "text/html": [
       "<pre style=\"white-space:pre;overflow-x:auto;line-height:normal;font-family:Menlo,'DejaVu Sans Mono',consolas,'Courier New',monospace\"><span style=\"font-weight: bold\"> Optimizer params: </span><span style=\"color: #00af00; text-decoration-color: #00af00\">10,531,268</span> (40.17 MB)\n",
       "</pre>\n"
      ],
      "text/plain": [
       "\u001b[1m Optimizer params: \u001b[0m\u001b[38;5;34m10,531,268\u001b[0m (40.17 MB)\n"
      ]
     },
     "metadata": {},
     "output_type": "display_data"
    }
   ],
   "source": [
    "model.summary()"
   ]
  },
  {
   "cell_type": "code",
   "execution_count": 49,
   "id": "f74528f2",
   "metadata": {
    "execution": {
     "iopub.execute_input": "2024-09-30T14:33:30.874440Z",
     "iopub.status.busy": "2024-09-30T14:33:30.873478Z",
     "iopub.status.idle": "2024-09-30T14:33:31.817201Z",
     "shell.execute_reply": "2024-09-30T14:33:31.816097Z",
     "shell.execute_reply.started": "2024-09-30T14:33:30.874385Z"
    }
   },
   "outputs": [
    {
     "name": "stdout",
     "output_type": "stream",
     "text": [
      "\u001b[1m102/102\u001b[0m \u001b[32m━━━━━━━━━━━━━━━━━━━━\u001b[0m\u001b[37m\u001b[0m \u001b[1m1s\u001b[0m 7ms/step - accuracy: 0.6373 - loss: 0.6298\n",
      "Test doğruluğu: 0.6377\n"
     ]
    }
   ],
   "source": [
    "test_loss, test_acc = model.evaluate(x_test, y_test)\n",
    "# TR = test_loss değişkeni, test verileri üzerinde hesaplanan kayıp değerini içerir. test_acc değişkeni, test verileri üzerinde hesaplanan doğruluk değerini içerir.\n",
    "# EN = The test_loss variable contains the loss value calculated on the test data. The test_acc variable contains the accuracy value calculated on the test data.\n",
    "\n",
    "print(f\"Test doğruluğu: {test_acc:.4f}\")"
   ]
  },
  {
   "cell_type": "code",
   "execution_count": 50,
   "id": "c18efb42",
   "metadata": {
    "execution": {
     "iopub.execute_input": "2024-09-30T14:33:31.819069Z",
     "iopub.status.busy": "2024-09-30T14:33:31.818701Z",
     "iopub.status.idle": "2024-09-30T14:33:33.056281Z",
     "shell.execute_reply": "2024-09-30T14:33:33.055316Z",
     "shell.execute_reply.started": "2024-09-30T14:33:31.819029Z"
    }
   },
   "outputs": [
    {
     "name": "stdout",
     "output_type": "stream",
     "text": [
      "\u001b[1m102/102\u001b[0m \u001b[32m━━━━━━━━━━━━━━━━━━━━\u001b[0m\u001b[37m\u001b[0m \u001b[1m1s\u001b[0m 8ms/step\n"
     ]
    }
   ],
   "source": [
    "pred=(model.predict(x_test) > 0.5).astype(int)\n",
    "# TR = modeli x_test ile predict özelliği ile tahmin ettik. predict=tahmin demek. Dahmin edip pred eşitledik. \n",
    "# EN = We predicted the model with x_test and the predict feature. predict=means prediction. We guessed and equalized the pred."
   ]
  },
  {
   "cell_type": "code",
   "execution_count": 51,
   "id": "0f132569",
   "metadata": {
    "execution": {
     "iopub.execute_input": "2024-09-30T14:33:33.058047Z",
     "iopub.status.busy": "2024-09-30T14:33:33.057701Z",
     "iopub.status.idle": "2024-09-30T14:33:33.067721Z",
     "shell.execute_reply": "2024-09-30T14:33:33.066560Z",
     "shell.execute_reply.started": "2024-09-30T14:33:33.058010Z"
    }
   },
   "outputs": [
    {
     "data": {
      "text/plain": [
       "0.6376811594202898"
      ]
     },
     "execution_count": 51,
     "metadata": {},
     "output_type": "execute_result"
    }
   ],
   "source": [
    "accuracy_score(y_test, pred)\n",
    "# TR = accuracy_score fonksiyonu ile y_test, pred kullanarak sonucumuzu bulduk.\n",
    "# EN = We found our result using the accuracy_score function and y_test, pred."
   ]
  },
  {
   "cell_type": "code",
   "execution_count": 52,
   "id": "0de000f2",
   "metadata": {
    "execution": {
     "iopub.execute_input": "2024-09-30T14:33:33.071215Z",
     "iopub.status.busy": "2024-09-30T14:33:33.070793Z",
     "iopub.status.idle": "2024-09-30T14:33:33.086013Z",
     "shell.execute_reply": "2024-09-30T14:33:33.085145Z",
     "shell.execute_reply.started": "2024-09-30T14:33:33.071163Z"
    }
   },
   "outputs": [
    {
     "data": {
      "text/plain": [
       "array([[ 723,  919],\n",
       "       [ 256, 1345]])"
      ]
     },
     "execution_count": 52,
     "metadata": {},
     "output_type": "execute_result"
    }
   ],
   "source": [
    "confusion_matrix(y_test, pred)\n",
    "# TR = confusion_matrix fonksiyonu ile y_test, pred kullanarak ne kadarını yanlış tahmin ettiğimizi buluyoruz\n",
    "# EN = Using the confusion_matrix function and y_test, pred, we find out how much we guessed wrong.\n",
    "\n",
    "# TR = 4 sayı değeri veriyor bize. Sol üst ve sağ alt doğru tahmin, sağ üst ve sol alt yanlış tahmin. \n",
    "# EN = It gives us 4 number values. Upper left and lower right are correct guesses, upper right and lower left are incorrect guesses."
   ]
  },
  {
   "cell_type": "code",
   "execution_count": 53,
   "id": "67ff4dfe",
   "metadata": {
    "execution": {
     "iopub.execute_input": "2024-09-30T14:33:33.087705Z",
     "iopub.status.busy": "2024-09-30T14:33:33.087362Z",
     "iopub.status.idle": "2024-09-30T14:33:33.392966Z",
     "shell.execute_reply": "2024-09-30T14:33:33.391925Z",
     "shell.execute_reply.started": "2024-09-30T14:33:33.087668Z"
    }
   },
   "outputs": [
    {
     "data": {
      "image/png": "[encoded data removed]",
      "text/plain": [
       "<Figure size 640x480 with 2 Axes>"
      ]
     },
     "metadata": {},
     "output_type": "display_data"
    }
   ],
   "source": [
    "sns.heatmap(confusion_matrix(y_test, pred),annot=True);\n",
    "# TR = Yukarıdakinin görsel versiyonu.\n",
    "# EN = Visual version of the above."
   ]
  },
  {
   "cell_type": "code",
   "execution_count": 54,
   "id": "24550688",
   "metadata": {
    "execution": {
     "iopub.execute_input": "2024-09-30T14:33:33.395464Z",
     "iopub.status.busy": "2024-09-30T14:33:33.394964Z",
     "iopub.status.idle": "2024-09-30T14:33:33.419703Z",
     "shell.execute_reply": "2024-09-30T14:33:33.418606Z",
     "shell.execute_reply.started": "2024-09-30T14:33:33.395413Z"
    }
   },
   "outputs": [
    {
     "name": "stdout",
     "output_type": "stream",
     "text": [
      "              precision    recall  f1-score   support\n",
      "\n",
      "         0.0       0.74      0.44      0.55      1642\n",
      "         1.0       0.59      0.84      0.70      1601\n",
      "\n",
      "    accuracy                           0.64      3243\n",
      "   macro avg       0.67      0.64      0.62      3243\n",
      "weighted avg       0.67      0.64      0.62      3243\n",
      "\n"
     ]
    }
   ],
   "source": [
    "print(classification_report(y_test, pred))\n",
    "# TR = print içinde yazdık yoksa sayıların sıralanması bozuluyor.\n",
    "# EN = We wrote it in print, otherwise the order of the numbers will be disrupted.\n",
    "\n",
    "# TR = classification_report ile y_test, pred kullanarak precision, recall, f1-score ve support ulaştık.\n",
    "# EN = We achieved precision, recall, f1-score and support using classification_report and y_test, pred.\n",
    "\n",
    "# TR = Precision (Kesinlik): Doğru olarak pozitif tahmin edilen örneklerin, toplam pozitif tahmin edilen örnekler içindeki oranını gösterir. Yani, modelin pozitif sınıfı ne kadar doğru tahmin ettiğini ölçer.\n",
    "# EN = Precision (Precision): It shows the ratio of correctly predicted positive samples among the total positive predicted samples. That is, it measures how accurately the model predicts the positive class.\n",
    "\n",
    "# TR = Recall (Duyarlılık): Gerçek pozitif örneklerin, toplam pozitif örnekler içindeki oranını gösterir. Modelin pozitif sınıfı ne kadar iyi bulduğunu ölçer.\n",
    "# EN = Recall (Sensitivity): Shows the ratio of true positive samples in total positive samples. It measures how well the model finds the positive class.\n",
    "\n",
    "# TR = F1-score: Precision ve recall'un harmonik ortalamasıdır. Hem precision hem de recall'u dikkate alarak modelin genel performansını özetler.\n",
    "# EN = F1-score: It is the harmonic mean of precision and recall. It summarizes the overall performance of the model, taking into account both precision and recall.\n",
    "\n",
    "# TR = Support: Her sınıftan kaç örneğin bulunduğunu gösterir. Yani, gerçek etiketlerde her bir sınıfa ait kaç örnek olduğunu ifade eder.\n",
    "# EN = Support: Shows how many examples of each class are available. That is, it expresses how many examples of each class there are in the real labels."
   ]
  },
  {
   "cell_type": "code",
   "execution_count": 55,
   "id": "94c9aa40",
   "metadata": {
    "execution": {
     "iopub.execute_input": "2024-09-30T14:33:33.421405Z",
     "iopub.status.busy": "2024-09-30T14:33:33.420979Z",
     "iopub.status.idle": "2024-09-30T14:33:33.751873Z",
     "shell.execute_reply": "2024-09-30T14:33:33.750818Z",
     "shell.execute_reply.started": "2024-09-30T14:33:33.421367Z"
    }
   },
   "outputs": [
    {
     "data": {
      "image/png": "[encoded data removed]",
      "text/plain": [
       "<Figure size 640x480 with 1 Axes>"
      ]
     },
     "metadata": {},
     "output_type": "display_data"
    }
   ],
   "source": [
    "plt.plot(history.history['accuracy'],label='Accuracy')\n",
    "plt.plot(history.history['val_accuracy'],label='Val_Accuracy')\n",
    "plt.legend();"
   ]
  },
  {
   "cell_type": "code",
   "execution_count": 56,
   "id": "89b950f9",
   "metadata": {
    "execution": {
     "iopub.execute_input": "2024-09-30T14:33:33.753841Z",
     "iopub.status.busy": "2024-09-30T14:33:33.753451Z",
     "iopub.status.idle": "2024-09-30T14:33:34.080191Z",
     "shell.execute_reply": "2024-09-30T14:33:34.078984Z",
     "shell.execute_reply.started": "2024-09-30T14:33:33.753803Z"
    }
   },
   "outputs": [],
   "source": [
    "pickle.dump(model,open('Tweet.pkl','wb'))"
   ]
  }
 ],
 "metadata": {
  "kaggle": {
   "accelerator": "none",
   "dataSources": [
    {
     "databundleVersionId": 9511539,
     "sourceId": 84717,
     "sourceType": "competition"
    }
   ],
   "dockerImageVersionId": 30775,
   "isGpuEnabled": false,
   "isInternetEnabled": true,
   "language": "python",
   "sourceType": "notebook"
  },
  "kernelspec": {
   "display_name": "Python 3 (ipykernel)",
   "language": "python",
   "name": "python3"
  },
  "language_info": {
   "codemirror_mode": {
    "name": "ipython",
    "version": 3
   },
   "file_extension": ".py",
   "mimetype": "text/x-python",
   "name": "python",
   "nbconvert_exporter": "python",
   "pygments_lexer": "ipython3",
   "version": "3.12.4"
  }
 },
 "nbformat": 4,
 "nbformat_minor": 5
}
